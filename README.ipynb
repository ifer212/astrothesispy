{
 "cells": [
  {
   "cell_type": "markdown",
   "metadata": {},
   "source": [
    "# Astrothesispy\n",
    "---\n",
    "\n",
    "> Astrothesispy is just a recompilation of equations, methods and plots created for my PhD in Atrophysics and for some scientific publications.\n",
    "\n",
    "To install just use pip:\n",
    "&emsp;  ```\n",
    "            pip install astrothesispy\n",
    "        ```"
   ]
  },
  {
   "cell_type": "markdown",
   "metadata": {},
   "source": [
    "- The ```utiles``` module includes most of the methods defined during the thesis:\n",
    "    - ```utiles.utiles```: Contains simple method to work with arrays and some simple statistics function (e.g. bootrstrapping).\n",
    "    - ```utiles.utiles_plot```: Contains methods to use recursively in plots (e.g. ```add_cbar()``` to add a color bar to a plot, ```map_figure_starter()``` to create the axis with World Coordinate System (WCS) and proper RA and Dec labelling).\n",
    "    - ```utiles.utiles_physical```: Contains equations and funcitons for physics.\n",
    "    - ```utiles.utiles_nLTEmodel```: Contains methods for handling the non Local Thermodynamical Equilibrium (non LTE) radiative transfer modeling files. The modelling is carried in fortran and is not incluided. The module modifies de input files, call the fortran compiler, and collects the outputs from the different files generated.\n",
    "    - ```utiles.utiles_molecules```: Contains some methods for calculations with moelcules (e.g. ```transition_citical_density()```, ```Columndensity_thin()```, ```Columndensity_thin()```) and also obtain the excitation temperature and column density through a rotational digram (```rotational_diagram()```) and plot it.\n",
    "    - ```utiles.utiles_cubes```: Contains the ```Cube_Handler()``` class to handle the .fits format data cubes and some functions to calculate the cube moments, sigma masking, etc...\n",
    "    - ```utiles.utiles_alma```: Contains some functions to estimate observational parameters from the ALMA interferometer observations.\n",
    "    - ```utiles.u_conversion```: Contains methods to transform between units for complex units systems.\n",
    "    - ```utiles.Madcuba_plotter```: Contains methods to plot the spectra extracted from [Madcuba](https://cab.inta-csic.es/madcuba/) (a software developed in the Center of Astrobiology of Madrid to analyze astronomical datacubes and multiple spectra from the main astronomical facilities), labelling the molecular lines and auto-positioning the labels to avoid text overlapping.\n",
    "\n",
    " \n",
    "\n",
    "- The ```data/``` directory includes some of the data used for my thesis (mostly for the _Rico-Villas et al. 2022_ publication) and required to create the plots inside ```Figures/```\n",
    "\n",
    "- The ```HC3N``` module includes some data from the CDMS catalogue for HC3N and the ```HC3N_enerdiag``` to plot the energy diagram of HC3N vibrational states.\n",
    "\n",
    "- The ```radiative_transfer``` module includes some functions to make calculations from the non LTE results.\n",
    "- The ```scripts``` module contains examples on how to re-create the figures.\n"
   ]
  },
  {
   "cell_type": "markdown",
   "metadata": {},
   "source": [
    "Figures created for  _Rico-Villas et al. 2022_ using this repository (see ```paper_figures.py```):\n",
    "- Figure 1:\n",
    "<img src=\"Figures/PaperNGC253HR/Figure_1_219GHz.png\" alt=\"Fig1\" />"
   ]
  },
  {
   "cell_type": "markdown",
   "metadata": {},
   "source": []
  },
  {
   "cell_type": "markdown",
   "metadata": {},
   "source": [
    "Example of the energy diagram figure:"
   ]
  },
  {
   "cell_type": "code",
   "execution_count": null,
   "metadata": {},
   "outputs": [],
   "source": [
    "import os\n",
    "from astrothesispy.HC3N import HC3N_enerdiag\n",
    "# HC3N CDMS data \n",
    "hc3n_info = 'HC3N/CDMS/'\n",
    "fig_path = f'Figures/Thesis/'\n",
    "if not os.path.exists(fig_path):\n",
    "    os.makedirs(fig_path)\n",
    "import numpy as np\n",
    "np.seterr(divide = 'ignore') \n",
    "# Energy diagram figure for thesis HC3N intro\n",
    "HC3N_enerdiag.HC3N_energydiag(fig_path, hc3n_info, plot_rotational_levels = True, fig_format = '.png')"
   ]
  },
  {
   "cell_type": "markdown",
   "metadata": {},
   "source": [
    "<img src=\"Figures/Thesis/HC3N_Ediag_K_wrot_lvls.png\" alt=\"EnergyDiag\" />"
   ]
  },
  {
   "cell_type": "markdown",
   "metadata": {},
   "source": [
    "Example of a rotational diagram using bootstrap:"
   ]
  },
  {
   "cell_type": "code",
   "execution_count": null,
   "metadata": {},
   "outputs": [],
   "source": [
    "from astrothesispy.utiles import utiles_molecules\n",
    "import os\n",
    "import numpy as np\n",
    "import random\n",
    "# Setting seeds for reproduction\n",
    "random.seed(1001)\n",
    "np.random.seed(1001)\n",
    "\n",
    "fig_path = f'Figures/Thesis/'\n",
    "if not os.path.exists(fig_path):\n",
    "    os.makedirs(fig_path)\n",
    "    \n",
    "source = 'SHC_13'\n",
    "results_path = 'data/NGC253_HR/Results/'\n",
    "# Observed beam sizes\n",
    "Bmin_arcsec = 0.020\n",
    "Bmaj_arcsec = 0.022\n",
    "# Molecule info\n",
    "info_path = f'{results_path}Tables/SLIM_HC3N_info.xlsx'\n",
    "# Formatting lines info\n",
    "lines_dict = utiles_molecules.HC3N_line_dict_builder(source, results_path, info_path, Bmin_arcsec, Bmaj_arcsec)\n",
    "# Fitting to get Column density and Temperatures\n",
    "bootstrap = True # Use bootstrap method to improve fit and error estimation.\n",
    "vib_temp_df, fit_dict = utiles_molecules.rotational_diagram(lines_dict, Jselect=24, bootstrap=bootstrap)\n",
    "# Plotting\n",
    "utiles_molecules.Rotational_Diagram_plot(source, vib_temp_df, fit_dict, fig_path, plot_noboots = False, plot_boots = True, fig_format = '.png')"
   ]
  },
  {
   "cell_type": "markdown",
   "metadata": {},
   "source": [
    "<img src=\"Figures/Thesis/SHC_13_Rotational_Diagram.png\" alt=\"RotDiag\" />"
   ]
  },
  {
   "cell_type": "markdown",
   "metadata": {},
   "source": []
  },
  {
   "cell_type": "markdown",
   "metadata": {},
   "source": [
    "### Scientific publications\n",
    "\n",
    " * _Rico-Villas et al. 2022_    &emsp; &emsp; &emsp;   <img src=\"readme_figs/arxiv-logo.svg\" alt=\"arxiv\" style=\"width: 50px; height: 20px;\"/> [2208.01941](https://ui.adsabs.harvard.edu/link_gateway/2022arXiv220801941R/arxiv:2208.01941)  &nbsp;  <img src=\"readme_figs/DOI_logo.svg\" alt=\"DOI\" style=\"width: 20px; height: 20px;\"/> _submitted_\n",
    " * _Rico-Villas et al. 2021_    &emsp; &emsp; &emsp;    <img src=\"readme_figs/arxiv-logo.svg\" alt=\"arxiv\" style=\"width: 50px; height: 20px;\"/> [2008.03693](https://ui.adsabs.harvard.edu/link_gateway/2021MNRAS.502.3021R/arxiv:2008.03693)  &nbsp; <img src=\"readme_figs/DOI_logo.svg\" alt=\"DOI\" style=\"width: 20px; height: 20px;\"/> [10.1093/mnras/stab197](https://ui.adsabs.harvard.edu/link_gateway/2021MNRAS.502.3021R/doi:10.1093/mnras/stab197)\n",
    " * _Rico-Villas et al. 2020_   &emsp; &emsp; &emsp;     <img src=\"readme_figs/arxiv-logo.svg\" alt=\"arxiv\" style=\"width: 50px; height: 20px;\"/>  [1909.11385](https://ui.adsabs.harvard.edu/link_gateway/2020MNRAS.491.4573R/arxiv:1909.11385) &nbsp;  <img src=\"readme_figs/DOI_logo.svg\" alt=\"DOI\" style=\"width: 20px; height: 20px;\"/> [10.1093/mnras/stz3347](https://ui.adsabs.harvard.edu/link_gateway/2020MNRAS.491.4573R/doi:10.1093/mnras/stz3347)\n"
   ]
  },
  {
   "cell_type": "markdown",
   "metadata": {},
   "source": []
  },
  {
   "cell_type": "markdown",
   "metadata": {},
   "source": []
  }
 ],
 "metadata": {
  "kernelspec": {
   "display_name": "Python 3.10.4 ('astro')",
   "language": "python",
   "name": "python3"
  },
  "language_info": {
   "codemirror_mode": {
    "name": "ipython",
    "version": 3
   },
   "file_extension": ".py",
   "mimetype": "text/x-python",
   "name": "python",
   "nbconvert_exporter": "python",
   "pygments_lexer": "ipython3",
   "version": "3.10.4"
  },
  "orig_nbformat": 4,
  "vscode": {
   "interpreter": {
    "hash": "5bf36ebc38dff7303d27c52cd9a479a7a6fef5b4e379093d0951e5cf3826780d"
   }
  }
 },
 "nbformat": 4,
 "nbformat_minor": 2
}
