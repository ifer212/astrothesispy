{
 "cells": [
  {
   "cell_type": "markdown",
   "metadata": {},
   "source": [
    "# Astrothesispy\n",
    "---\n",
    "\n",
    "> Astrothesispy is just a recompilation of equations, methods and plots created for my PhD in Atrophysics and for some scientific publications.\n",
    "\n",
    "To install just use pip:\n",
    "&emsp;  ```\n",
    "            pip install astrothesispy\n",
    "        ```"
   ]
  },
  {
   "cell_type": "markdown",
   "metadata": {},
   "source": [
    "- The ```utiles``` module includes most of the methods defined:\n",
    "    - ```utiles.utiles```s : Contains simple method to work with arrays and some statistics function (e.g.)"
   ]
  },
  {
   "cell_type": "code",
   "execution_count": null,
   "metadata": {},
   "outputs": [
    {
     "ename": "",
     "evalue": "",
     "output_type": "error",
     "traceback": [
      "\u001b[1;31mRunning cells with 'Python 3.10.4 ('astro')' requires ipykernel package.\n",
      "Run the following command to install 'ipykernel' into the Python environment. \n",
      "Command: 'conda install -n astro ipykernel --update-deps --force-reinstall'"
     ]
    }
   ],
   "source": [
    "#%%\n",
    "    import matplotlib.pyplot as plt\n",
    "    "
   ]
  },
  {
   "cell_type": "markdown",
   "metadata": {},
   "source": []
  },
  {
   "cell_type": "markdown",
   "metadata": {},
   "source": []
  },
  {
   "cell_type": "markdown",
   "metadata": {},
   "source": [
    "### Scientific publications\n",
    "\n",
    " * _Rico-Villas et al. 2022_    &emsp; &emsp; &emsp;   <img src=\"readme_figs/arxiv-logo.svg\" alt=\"arxiv\" style=\"width: 50px; height: 20px;\"/> [2208.01941](https://ui.adsabs.harvard.edu/link_gateway/2022arXiv220801941R/arxiv:2208.01941)  &nbsp;  <img src=\"readme_figs/DOI_logo.svg\" alt=\"DOI\" style=\"width: 20px; height: 20px;\"/> _submitted_\n",
    " * _Rico-Villas et al. 2021_    &emsp; &emsp; &emsp;    <img src=\"readme_figs/arxiv-logo.svg\" alt=\"arxiv\" style=\"width: 50px; height: 20px;\"/> [2008.03693](https://ui.adsabs.harvard.edu/link_gateway/2021MNRAS.502.3021R/arxiv:2008.03693)  &nbsp; <img src=\"readme_figs/DOI_logo.svg\" alt=\"DOI\" style=\"width: 20px; height: 20px;\"/> [10.1093/mnras/stab197](https://ui.adsabs.harvard.edu/link_gateway/2021MNRAS.502.3021R/doi:10.1093/mnras/stab197)\n",
    " * _Rico-Villas et al. 2020_   &emsp; &emsp; &emsp;     <img src=\"readme_figs/arxiv-logo.svg\" alt=\"arxiv\" style=\"width: 50px; height: 20px;\"/>  [1909.11385](https://ui.adsabs.harvard.edu/link_gateway/2020MNRAS.491.4573R/arxiv:1909.11385) &nbsp;  <img src=\"readme_figs/DOI_logo.svg\" alt=\"DOI\" style=\"width: 20px; height: 20px;\"/> [10.1093/mnras/stz3347](https://ui.adsabs.harvard.edu/link_gateway/2020MNRAS.491.4573R/doi:10.1093/mnras/stz3347)\n"
   ]
  },
  {
   "cell_type": "markdown",
   "metadata": {},
   "source": []
  },
  {
   "cell_type": "code",
   "execution_count": null,
   "metadata": {},
   "outputs": [],
   "source": []
  },
  {
   "cell_type": "code",
   "execution_count": null,
   "metadata": {},
   "outputs": [],
   "source": []
  },
  {
   "cell_type": "markdown",
   "metadata": {},
   "source": []
  }
 ],
 "metadata": {
  "kernelspec": {
   "display_name": "Python 3.10.4 ('astro')",
   "language": "python",
   "name": "python3"
  },
  "language_info": {
   "name": "python",
   "version": "3.10.4"
  },
  "orig_nbformat": 4,
  "vscode": {
   "interpreter": {
    "hash": "5bf36ebc38dff7303d27c52cd9a479a7a6fef5b4e379093d0951e5cf3826780d"
   }
  }
 },
 "nbformat": 4,
 "nbformat_minor": 2
}
